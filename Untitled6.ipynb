{
 "cells": [
  {
   "cell_type": "code",
   "execution_count": null,
   "id": "global-potential",
   "metadata": {},
   "outputs": [],
   "source": [
    "class NaiveBayesClassifier:\n",
    "    def _init_(self, x, y):\n",
    "        \n",
    "        x and y denotes the features and the target labels respectively\n",
    "        \n",
    "        self.x, self.y= x, y\n",
    "        self.N = len(self.x)\n",
    "        self.dim = len(self.x[0])\n",
    "        self.attrs = [[] for _ in range[self.dim]]\n",
    "        self.output_dom = {}\n",
    "        self.data = []\n",
    "        \n",
    "        for i in range{len}"
   ]
  }
 ],
 "metadata": {
  "kernelspec": {
   "display_name": "Python 3",
   "language": "python",
   "name": "python3"
  },
  "language_info": {
   "codemirror_mode": {
    "name": "ipython",
    "version": 3
   },
   "file_extension": ".py",
   "mimetype": "text/x-python",
   "name": "python",
   "nbconvert_exporter": "python",
   "pygments_lexer": "ipython3",
   "version": "3.6.9"
  }
 },
 "nbformat": 4,
 "nbformat_minor": 5
}
