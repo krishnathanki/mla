{
 "cells": [
  {
   "cell_type": "code",
   "execution_count": 1,
   "id": "subject-gnome",
   "metadata": {},
   "outputs": [],
   "source": [
    "import pandas as pd\n",
    "import matplotlib.pyplot as plt\n",
    "import numpy as np"
   ]
  },
  {
   "cell_type": "code",
   "execution_count": 2,
   "id": "express-adams",
   "metadata": {},
   "outputs": [],
   "source": [
    "df= pd.read_csv('A.csv')"
   ]
  },
  {
   "cell_type": "code",
   "execution_count": 3,
   "id": "cardiovascular-midwest",
   "metadata": {},
   "outputs": [
    {
     "data": {
      "text/html": [
       "<div>\n",
       "<style scoped>\n",
       "    .dataframe tbody tr th:only-of-type {\n",
       "        vertical-align: middle;\n",
       "    }\n",
       "\n",
       "    .dataframe tbody tr th {\n",
       "        vertical-align: top;\n",
       "    }\n",
       "\n",
       "    .dataframe thead th {\n",
       "        text-align: right;\n",
       "    }\n",
       "</style>\n",
       "<table border=\"1\" class=\"dataframe\">\n",
       "  <thead>\n",
       "    <tr style=\"text-align: right;\">\n",
       "      <th></th>\n",
       "      <th>Unnamed: 0</th>\n",
       "      <th>TV</th>\n",
       "      <th>radio</th>\n",
       "      <th>newspaper</th>\n",
       "      <th>sales</th>\n",
       "    </tr>\n",
       "  </thead>\n",
       "  <tbody>\n",
       "    <tr>\n",
       "      <th>0</th>\n",
       "      <td>1</td>\n",
       "      <td>230.1</td>\n",
       "      <td>37.8</td>\n",
       "      <td>69.2</td>\n",
       "      <td>22.1</td>\n",
       "    </tr>\n",
       "    <tr>\n",
       "      <th>1</th>\n",
       "      <td>2</td>\n",
       "      <td>44.5</td>\n",
       "      <td>39.3</td>\n",
       "      <td>45.1</td>\n",
       "      <td>10.4</td>\n",
       "    </tr>\n",
       "    <tr>\n",
       "      <th>2</th>\n",
       "      <td>3</td>\n",
       "      <td>17.2</td>\n",
       "      <td>45.9</td>\n",
       "      <td>69.3</td>\n",
       "      <td>9.3</td>\n",
       "    </tr>\n",
       "    <tr>\n",
       "      <th>3</th>\n",
       "      <td>4</td>\n",
       "      <td>151.5</td>\n",
       "      <td>41.3</td>\n",
       "      <td>58.5</td>\n",
       "      <td>18.5</td>\n",
       "    </tr>\n",
       "    <tr>\n",
       "      <th>4</th>\n",
       "      <td>5</td>\n",
       "      <td>180.8</td>\n",
       "      <td>10.8</td>\n",
       "      <td>58.4</td>\n",
       "      <td>12.9</td>\n",
       "    </tr>\n",
       "  </tbody>\n",
       "</table>\n",
       "</div>"
      ],
      "text/plain": [
       "   Unnamed: 0     TV  radio  newspaper  sales\n",
       "0           1  230.1   37.8       69.2   22.1\n",
       "1           2   44.5   39.3       45.1   10.4\n",
       "2           3   17.2   45.9       69.3    9.3\n",
       "3           4  151.5   41.3       58.5   18.5\n",
       "4           5  180.8   10.8       58.4   12.9"
      ]
     },
     "execution_count": 3,
     "metadata": {},
     "output_type": "execute_result"
    }
   ],
   "source": [
    "df.head()"
   ]
  },
  {
   "cell_type": "code",
   "execution_count": 4,
   "id": "sunrise-scoop",
   "metadata": {},
   "outputs": [],
   "source": [
    "sales = np.array(df.sales[0:100])\n",
    "\n",
    "tv = np.array(df.TV[:100])\n",
    "radio = np.array(df.radio[:100])\n",
    "newspaper = np.array(df.newspaper[:100])"
   ]
  },
  {
   "cell_type": "code",
   "execution_count": 5,
   "id": "listed-grant",
   "metadata": {},
   "outputs": [
    {
     "data": {
      "image/png": "[encoded data removed]",
      "text/plain": [
       "<Figure size 432x288 with 1 Axes>"
      ]
     },
     "metadata": {
      "needs_background": "light"
     },
     "output_type": "display_data"
    }
   ],
   "source": [
    "plt.scatter(tv,sales,color=\"Red\",marker = '*')\n",
    "plt.xlabel(\"Tv\")\n",
    "plt.ylabel(\"Sales\")\n",
    "plt.show()"
   ]
  },
  {
   "cell_type": "code",
   "execution_count": 6,
   "id": "centered-motel",
   "metadata": {},
   "outputs": [
    {
     "data": {
      "image/png": "[encoded data removed]",
      "text/plain": [
       "<Figure size 432x288 with 1 Axes>"
      ]
     },
     "metadata": {
      "needs_background": "light"
     },
     "output_type": "display_data"
    }
   ],
   "source": [
    "plt.scatter(radio,sales,color=\"Green\",marker='1')\n",
    "plt.xlabel(\"radio\")\n",
    "plt.ylabel(\"sales\")\n",
    "plt.show()"
   ]
  },
  {
   "cell_type": "code",
   "execution_count": 7,
   "id": "instrumental-dubai",
   "metadata": {},
   "outputs": [
    {
     "data": {
      "image/png": "[encoded data removed]",
      "text/plain": [
       "<Figure size 432x288 with 1 Axes>"
      ]
     },
     "metadata": {
      "needs_background": "light"
     },
     "output_type": "display_data"
    }
   ],
   "source": [
    "plt.scatter(newspaper,sales,color=\"Orange\")\n",
    "plt.xlabel(\"newspaper\")\n",
    "plt.show(\"sales\")\n",
    "plt.show()"
   ]
  },
  {
   "cell_type": "code",
   "execution_count": 8,
   "id": "guilty-table",
   "metadata": {},
   "outputs": [],
   "source": [
    "from scipy.stats import linregress as lin"
   ]
  },
  {
   "cell_type": "code",
   "execution_count": 9,
   "id": "every-council",
   "metadata": {},
   "outputs": [
    {
     "data": {
      "text/plain": [
       "<function scipy.stats._stats_mstats_common.linregress(x, y=None)>"
      ]
     },
     "execution_count": 9,
     "metadata": {},
     "output_type": "execute_result"
    }
   ],
   "source": [
    "lin"
   ]
  },
  {
   "cell_type": "code",
   "execution_count": 10,
   "id": "liberal-accommodation",
   "metadata": {},
   "outputs": [],
   "source": [
    "def CalVal(x,l):\n",
    "    return (l.slope*x) +  l.intercept"
   ]
  },
  {
   "cell_type": "code",
   "execution_count": 11,
   "id": "cardiac-implement",
   "metadata": {},
   "outputs": [
    {
     "data": {
      "image/png": "[encoded data removed]",
      "text/plain": [
       "<Figure size 432x288 with 1 Axes>"
      ]
     },
     "metadata": {
      "needs_background": "light"
     },
     "output_type": "display_data"
    }
   ],
   "source": [
    "x = lin(tv,sales)\n",
    "plt.scatter(tv,sales,color=\"blue\")\n",
    "plt.plot(tv,x.slope*tv+x.intercept)\n",
    "pred1 = [CalVal(i,x) for i in df.TV[100:]]"
   ]
  },
  {
   "cell_type": "code",
   "execution_count": 12,
   "id": "tropical-equipment",
   "metadata": {},
   "outputs": [
    {
     "data": {
      "image/png": "[encoded data removed]",
      "text/plain": [
       "<Figure size 432x288 with 1 Axes>"
      ]
     },
     "metadata": {
      "needs_background": "light"
     },
     "output_type": "display_data"
    }
   ],
   "source": [
    "x = lin(radio,sales)\n",
    "plt.scatter(radio,sales,color=\"Red\")\n",
    "plt.plot(radio,x.slope*radio+x.intercept)\n",
    "pred2 = [CalVal(i,x) for i in df.radio[100:]]"
   ]
  },
  {
   "cell_type": "code",
   "execution_count": 13,
   "id": "judicial-brighton",
   "metadata": {},
   "outputs": [
    {
     "data": {
      "image/png": "[encoded data removed]",
      "text/plain": [
       "<Figure size 432x288 with 1 Axes>"
      ]
     },
     "metadata": {
      "needs_background": "light"
     },
     "output_type": "display_data"
    }
   ],
   "source": [
    "x = lin(newspaper,sales)\n",
    "plt.scatter(newspaper,sales,color=\"orange\")\n",
    "plt.plot(newspaper,x.slope*newspaper+x.intercept)\n",
    "pred3 = [CalVal(i,x) for i in df.newspaper[100:]]"
   ]
  },
  {
   "cell_type": "code",
   "execution_count": 14,
   "id": "strong-agent",
   "metadata": {},
   "outputs": [],
   "source": [
    "from sklearn.metrics import mean_squared_error"
   ]
  },
  {
   "cell_type": "code",
   "execution_count": 25,
   "id": "adaptive-morris",
   "metadata": {},
   "outputs": [],
   "source": [
    "actual = df.sales[100:]"
   ]
  },
  {
   "cell_type": "markdown",
   "id": "southeast-screening",
   "metadata": {},
   "source": [
    "rms"
   ]
  },
  {
   "cell_type": "code",
   "execution_count": 26,
   "id": "facial-creativity",
   "metadata": {},
   "outputs": [],
   "source": [
    "rms1 = mean_squared_error(actual, pred1, squared=False)\n",
    "rms2 = mean_squared_error(actual,pred2, squared=False)\n",
    "rms3 = mean_squared_error(actual, pred3, squared=False)"
   ]
  },
  {
   "cell_type": "markdown",
   "id": "mexican-blues",
   "metadata": {},
   "source": [
    "rms1"
   ]
  },
  {
   "cell_type": "code",
   "execution_count": 27,
   "id": "connected-branch",
   "metadata": {},
   "outputs": [
    {
     "data": {
      "text/plain": [
       "3.4780277547737075"
      ]
     },
     "execution_count": 27,
     "metadata": {},
     "output_type": "execute_result"
    }
   ],
   "source": [
    "rms1"
   ]
  },
  {
   "cell_type": "code",
   "execution_count": 28,
   "id": "living-minimum",
   "metadata": {},
   "outputs": [
    {
     "data": {
      "text/plain": [
       "(3.4780277547737075, 4.401456457045596, 5.140330822402968)"
      ]
     },
     "execution_count": 28,
     "metadata": {},
     "output_type": "execute_result"
    }
   ],
   "source": [
    "rms1,rms2,rms3"
   ]
  },
  {
   "cell_type": "code",
   "execution_count": null,
   "id": "starting-brooks",
   "metadata": {},
   "outputs": [],
   "source": []
  }
 ],
 "metadata": {
  "kernelspec": {
   "display_name": "Python 3",
   "language": "python",
   "name": "python3"
  },
  "language_info": {
   "codemirror_mode": {
    "name": "ipython",
    "version": 3
   },
   "file_extension": ".py",
   "mimetype": "text/x-python",
   "name": "python",
   "nbconvert_exporter": "python",
   "pygments_lexer": "ipython3",
   "version": "3.6.9"
  }
 },
 "nbformat": 4,
 "nbformat_minor": 5
}
